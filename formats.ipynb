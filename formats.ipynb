{
 "cells": [
  {
   "cell_type": "markdown",
   "metadata": {},
   "source": [
    "# Import"
   ]
  },
  {
   "cell_type": "code",
   "execution_count": null,
   "metadata": {},
   "outputs": [],
   "source": [
    "%matplotlib inline"
   ]
  },
  {
   "cell_type": "code",
   "execution_count": null,
   "metadata": {},
   "outputs": [],
   "source": [
    "import numpy as np\n",
    "import pandas as pd\n",
    "from scipy.stats import zscore\n",
    "from sklearn.preprocessing import Imputer\n",
    "from sklearn.metrics import accuracy_score\n",
    "import seaborn as sns\n",
    "from sklearn.tree import DecisionTreeClassifier\n",
    "from sklearn.neighbors import KNeighborsClassifier\n",
    "from imblearn.over_sampling import SMOTE\n",
    "from sklearn.linear_model import LogisticRegression\n",
    "from sklearn.naive_bayes import GaussianNB\n",
    "import matplotlib.pyplot as plt   \n",
    "from sklearn.model_selection import train_test_split\n",
    "from sklearn import metrics"
   ]
  },
  {
   "cell_type": "markdown",
   "metadata": {},
   "source": [
    "# Read data"
   ]
  },
  {
   "cell_type": "code",
   "execution_count": null,
   "metadata": {},
   "outputs": [],
   "source": [
    "data = pd.read_csv(\"_______.csv\")"
   ]
  },
  {
   "cell_type": "code",
   "execution_count": null,
   "metadata": {},
   "outputs": [],
   "source": [
    "data.shape"
   ]
  },
  {
   "cell_type": "code",
   "execution_count": null,
   "metadata": {},
   "outputs": [],
   "source": [
    "data.dtypes"
   ]
  },
  {
   "cell_type": "code",
   "execution_count": null,
   "metadata": {},
   "outputs": [],
   "source": [
    "# Convert the 'diagnosis' column as categorical column\n",
    "data['diagnosis'] = data.diagnosis.astype('category')\n",
    "data.dtypes"
   ]
  },
  {
   "cell_type": "code",
   "execution_count": null,
   "metadata": {},
   "outputs": [],
   "source": [
    "data.describe().T"
   ]
  },
  {
   "cell_type": "code",
   "execution_count": null,
   "metadata": {},
   "outputs": [],
   "source": [
    "# to drop any unnecessary columns\n",
    "data = data.drop(labels = \"id\", axis = 1)"
   ]
  },
  {
   "cell_type": "code",
   "execution_count": null,
   "metadata": {},
   "outputs": [],
   "source": [
    "# ****** To be predicted *******\n",
    "# Create a separate dataframe consisting only of the features i.e independent attributes\n",
    "data_feature_df = data.drop(labels= \"diagnosis\" , axis = 1)"
   ]
  },
  {
   "cell_type": "markdown",
   "metadata": {},
   "source": [
    "# Scaling the Data\n",
    "Convert the features into z scores as we do not know what units / scales were used and store them in new dataframe\n",
    "\n",
    "We do this using the Z score method"
   ]
  },
  {
   "cell_type": "code",
   "execution_count": null,
   "metadata": {},
   "outputs": [],
   "source": [
    "data_feature_df_z = data_feature_df.apply(zscore) "
   ]
  },
  {
   "cell_type": "code",
   "execution_count": null,
   "metadata": {},
   "outputs": [],
   "source": [
    "# to be predicted\n",
    "data_labels = data_df[\"diagnosis\"]"
   ]
  },
  {
   "cell_type": "code",
   "execution_count": null,
   "metadata": {},
   "outputs": [],
   "source": [
    "# store the normalized features data into np array \n",
    "X = np.array(bc_feature_df_z)\n",
    "Y = np.array(bc_labels)"
   ]
  },
  {
   "cell_type": "markdown",
   "metadata": {},
   "source": [
    "# Split into Train and Test"
   ]
  },
  {
   "cell_type": "code",
   "execution_count": null,
   "metadata": {},
   "outputs": [],
   "source": [
    "# Break the data into training and test set\n",
    "\n",
    "X_Train = X[ :400, :]\n",
    "X_Test = X[401: , :]\n",
    "Y_Train = Y[:400, ]\n",
    "Y_Test = Y[401:, ]"
   ]
  },
  {
   "cell_type": "code",
   "execution_count": null,
   "metadata": {},
   "outputs": [],
   "source": [
    "X_Train.shape, Y_Train.shape, X_Test.shape, Y_Test.shape"
   ]
  },
  {
   "cell_type": "markdown",
   "metadata": {},
   "source": [
    "# Decision Tree Classifier format "
   ]
  },
  {
   "cell_type": "code",
   "execution_count": null,
   "metadata": {},
   "outputs": [],
   "source": [
    "DTClassifier = DecisionTreeClassifier (max_depth=1, min_samples_split = 3, random_state = 0)\n",
    "DTClassifier.fit (X_Train,Y_Train)\n",
    "predicted_labels = DTClassifier.predict(X_Test)\n",
    "accuracyscore = accuracy_score(Y_Test, predicted_labels)\n",
    "print(accuracyscore)"
   ]
  },
  {
   "cell_type": "markdown",
   "metadata": {},
   "source": [
    "DecisionTreeClassifier depends on \n",
    "\n",
    "class_weight=None, \n",
    "criterion='gini','entropy'  \n",
    "max_depth=1,\n",
    "max_features=None, \n",
    "max_leaf_nodes=None,\n",
    "min_impurity_decrease=0.0, \n",
    "min_impurity_split=None,\n",
    "min_samples_leaf=1,\n",
    "min_samples_split=3,\n",
    "min_weight_fraction_leaf=0.0, \n",
    "presort=False,\n",
    "random_state=0,\n",
    "splitter='best','random'"
   ]
  },
  {
   "cell_type": "markdown",
   "metadata": {},
   "source": [
    "# KNN"
   ]
  },
  {
   "cell_type": "markdown",
   "metadata": {},
   "source": [
    "# To find accuracy"
   ]
  },
  {
   "cell_type": "code",
   "execution_count": null,
   "metadata": {},
   "outputs": [],
   "source": [
    "def getAccuracy(Y_Test,predicted_labels):\n",
    "\tcorrect = 0\n",
    "\tfor x in range(len(Y_Test)):\n",
    "\t\tif Y_Test[x][-1] is predicted_labels[x]:\n",
    "\t\t\tcorrect += 1\n",
    "\treturn (correct/float(len(Y_Test))) * 100.0"
   ]
  },
  {
   "cell_type": "code",
   "execution_count": null,
   "metadata": {},
   "outputs": [],
   "source": [
    "NNH = KNeighborsClassifier(n_neighbors= 21 , weights = 'uniform', metric='euclidean')\n",
    "NNH.fit(X_Train, Y_Train)\n",
    "predicted_labels = NNH.predict(X_Test)\n",
    "accuracy_score = getAccuracy(Y_Test, predicted_labels)\n",
    "print(accuracy_score)"
   ]
  },
  {
   "cell_type": "code",
   "execution_count": null,
   "metadata": {},
   "outputs": [],
   "source": [
    "#for imbalance\n",
    "smote = SMOTE(ratio= 'minority')\n",
    "X_sm, Y_sm = smote.fit_sample(X,Y)\n",
    "NNH = KNeighborsClassifier(n_neighbors = 21)\n",
    "NNH.fit(X_sm, Y_sm)\n",
    "predicted_labels = NNH.predict(X_Test)\n",
    "accuracy_score = getAccuracy(Y_Test, predicted_labels)\n",
    "print(accuracy_score)"
   ]
  },
  {
   "cell_type": "code",
   "execution_count": null,
   "metadata": {},
   "outputs": [],
   "source": [
    "KNeighborsClassifier depends on \n",
    "\n",
    "n_neighbors=5,  (default = 5) \n",
    "weights=’uniform’, ‘distance’  \n",
    "algorithm=’auto’, ‘ball_tree’,‘kd_tree’, ‘brute’ \n",
    "leaf_size=30, (default = 30)\n",
    "p=2, ( p = 1,  using manhattan_distance,  p = 2, using minkowski_distance )\n",
    "metric=’minkowski’, 'manhattan' \n",
    "metric_params=None, \n",
    "n_jobs=None, **kwargs"
   ]
  },
  {
   "cell_type": "markdown",
   "metadata": {},
   "source": [
    "# Navie Bayes"
   ]
  },
  {
   "cell_type": "markdown",
   "metadata": {},
   "source": [
    "# GaussianNB"
   ]
  },
  {
   "cell_type": "code",
   "execution_count": null,
   "metadata": {},
   "outputs": [],
   "source": [
    "model = GaussianNB()\n",
    "model.fit(X_train, y_train)\n",
    "expected = y_test\n",
    "predicted = model.predict(X_test)\n",
    "print(metrics.classification_report(expected, predicted))\n",
    "print(metrics.confusion_matrix(expected, predicted))"
   ]
  },
  {
   "cell_type": "markdown",
   "metadata": {},
   "source": [
    "# MultinomialNB"
   ]
  },
  {
   "cell_type": "code",
   "execution_count": null,
   "metadata": {},
   "outputs": [],
   "source": [
    "model = MultinomialNB()\n",
    "model.fit(X_train, y_train)\n",
    "expected = y_test\n",
    "predicted = model.predict(X_test)\n",
    "print(metrics.classification_report(expected, predicted))\n",
    "print(metrics.confusion_matrix(expected, predicted))"
   ]
  },
  {
   "cell_type": "code",
   "execution_count": null,
   "metadata": {},
   "outputs": [],
   "source": []
  }
 ],
 "metadata": {
  "kernelspec": {
   "display_name": "Python 3",
   "language": "python",
   "name": "python3"
  },
  "language_info": {
   "codemirror_mode": {
    "name": "ipython",
    "version": 3
   },
   "file_extension": ".py",
   "mimetype": "text/x-python",
   "name": "python",
   "nbconvert_exporter": "python",
   "pygments_lexer": "ipython3",
   "version": "3.7.0"
  }
 },
 "nbformat": 4,
 "nbformat_minor": 2
}
