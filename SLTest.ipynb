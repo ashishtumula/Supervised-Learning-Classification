{
 "cells": [
  {
   "cell_type": "code",
   "execution_count": 1,
   "metadata": {},
   "outputs": [],
   "source": [
    "# To enable plotting graphs in Jupyter notebook\n",
    "%matplotlib inline "
   ]
  },
  {
   "cell_type": "code",
   "execution_count": 11,
   "metadata": {},
   "outputs": [],
   "source": [
    "import numpy as np\n",
    "import pandas as pd\n",
    "from sklearn.neighbors import KNeighborsClassifier\n",
    "from sklearn.model_selection import train_test_split\n",
    "from scipy.stats import zscore\n",
    "from sklearn.preprocessing import Imputer\n",
    "from sklearn.metrics import accuracy_score\n",
    "import seaborn as sns"
   ]
  },
  {
   "cell_type": "code",
   "execution_count": 12,
   "metadata": {},
   "outputs": [],
   "source": [
    "# Read the train data\n",
    "Wine = pd.read_csv(\"Wine_data.csv\")"
   ]
  },
  {
   "cell_type": "code",
   "execution_count": 13,
   "metadata": {},
   "outputs": [
    {
     "data": {
      "text/html": [
       "<div>\n",
       "<style scoped>\n",
       "    .dataframe tbody tr th:only-of-type {\n",
       "        vertical-align: middle;\n",
       "    }\n",
       "\n",
       "    .dataframe tbody tr th {\n",
       "        vertical-align: top;\n",
       "    }\n",
       "\n",
       "    .dataframe thead th {\n",
       "        text-align: right;\n",
       "    }\n",
       "</style>\n",
       "<table border=\"1\" class=\"dataframe\">\n",
       "  <thead>\n",
       "    <tr style=\"text-align: right;\">\n",
       "      <th></th>\n",
       "      <th>fixed acidity</th>\n",
       "      <th>volatile acidity</th>\n",
       "      <th>citric acid</th>\n",
       "      <th>residual sugar</th>\n",
       "      <th>chlorides</th>\n",
       "      <th>free sulfur dioxide</th>\n",
       "      <th>total sulfur dioxide</th>\n",
       "      <th>density</th>\n",
       "      <th>pH</th>\n",
       "      <th>sulphates</th>\n",
       "      <th>alcohol</th>\n",
       "      <th>quality</th>\n",
       "    </tr>\n",
       "  </thead>\n",
       "  <tbody>\n",
       "    <tr>\n",
       "      <th>0</th>\n",
       "      <td>7.0</td>\n",
       "      <td>0.27</td>\n",
       "      <td>0.36</td>\n",
       "      <td>20.7</td>\n",
       "      <td>0.045</td>\n",
       "      <td>45.0</td>\n",
       "      <td>170.0</td>\n",
       "      <td>1.0010</td>\n",
       "      <td>3.00</td>\n",
       "      <td>0.45</td>\n",
       "      <td>8.8</td>\n",
       "      <td>6</td>\n",
       "    </tr>\n",
       "    <tr>\n",
       "      <th>1</th>\n",
       "      <td>6.3</td>\n",
       "      <td>0.30</td>\n",
       "      <td>0.34</td>\n",
       "      <td>1.6</td>\n",
       "      <td>0.049</td>\n",
       "      <td>14.0</td>\n",
       "      <td>132.0</td>\n",
       "      <td>0.9940</td>\n",
       "      <td>3.30</td>\n",
       "      <td>0.49</td>\n",
       "      <td>9.5</td>\n",
       "      <td>6</td>\n",
       "    </tr>\n",
       "    <tr>\n",
       "      <th>2</th>\n",
       "      <td>8.1</td>\n",
       "      <td>0.28</td>\n",
       "      <td>0.40</td>\n",
       "      <td>6.9</td>\n",
       "      <td>0.050</td>\n",
       "      <td>30.0</td>\n",
       "      <td>97.0</td>\n",
       "      <td>0.9951</td>\n",
       "      <td>3.26</td>\n",
       "      <td>0.44</td>\n",
       "      <td>10.1</td>\n",
       "      <td>6</td>\n",
       "    </tr>\n",
       "    <tr>\n",
       "      <th>3</th>\n",
       "      <td>7.2</td>\n",
       "      <td>0.23</td>\n",
       "      <td>0.32</td>\n",
       "      <td>8.5</td>\n",
       "      <td>0.058</td>\n",
       "      <td>47.0</td>\n",
       "      <td>186.0</td>\n",
       "      <td>0.9956</td>\n",
       "      <td>3.19</td>\n",
       "      <td>0.40</td>\n",
       "      <td>9.9</td>\n",
       "      <td>6</td>\n",
       "    </tr>\n",
       "    <tr>\n",
       "      <th>4</th>\n",
       "      <td>7.2</td>\n",
       "      <td>0.23</td>\n",
       "      <td>0.32</td>\n",
       "      <td>8.5</td>\n",
       "      <td>0.058</td>\n",
       "      <td>47.0</td>\n",
       "      <td>186.0</td>\n",
       "      <td>0.9956</td>\n",
       "      <td>3.19</td>\n",
       "      <td>0.40</td>\n",
       "      <td>9.9</td>\n",
       "      <td>6</td>\n",
       "    </tr>\n",
       "  </tbody>\n",
       "</table>\n",
       "</div>"
      ],
      "text/plain": [
       "   fixed acidity  volatile acidity  citric acid  residual sugar  chlorides  \\\n",
       "0            7.0              0.27         0.36            20.7      0.045   \n",
       "1            6.3              0.30         0.34             1.6      0.049   \n",
       "2            8.1              0.28         0.40             6.9      0.050   \n",
       "3            7.2              0.23         0.32             8.5      0.058   \n",
       "4            7.2              0.23         0.32             8.5      0.058   \n",
       "\n",
       "   free sulfur dioxide  total sulfur dioxide  density    pH  sulphates  \\\n",
       "0                 45.0                 170.0   1.0010  3.00       0.45   \n",
       "1                 14.0                 132.0   0.9940  3.30       0.49   \n",
       "2                 30.0                  97.0   0.9951  3.26       0.44   \n",
       "3                 47.0                 186.0   0.9956  3.19       0.40   \n",
       "4                 47.0                 186.0   0.9956  3.19       0.40   \n",
       "\n",
       "   alcohol  quality  \n",
       "0      8.8        6  \n",
       "1      9.5        6  \n",
       "2     10.1        6  \n",
       "3      9.9        6  \n",
       "4      9.9        6  "
      ]
     },
     "execution_count": 13,
     "metadata": {},
     "output_type": "execute_result"
    }
   ],
   "source": [
    "Wine.head()"
   ]
  },
  {
   "cell_type": "code",
   "execution_count": 14,
   "metadata": {},
   "outputs": [],
   "source": [
    "y = Wine.quality\n",
    "X = Wine.drop('quality', axis=1)"
   ]
  },
  {
   "cell_type": "code",
   "execution_count": 15,
   "metadata": {},
   "outputs": [],
   "source": [
    "X_train, X_test, y_train, y_test = train_test_split(X, y, \n",
    "                                                    test_size=0.2, \n",
    "                                                    random_state=123, \n",
    "                                                    stratify=y)"
   ]
  },
  {
   "cell_type": "code",
   "execution_count": 16,
   "metadata": {},
   "outputs": [
    {
     "data": {
      "text/html": [
       "<div>\n",
       "<style scoped>\n",
       "    .dataframe tbody tr th:only-of-type {\n",
       "        vertical-align: middle;\n",
       "    }\n",
       "\n",
       "    .dataframe tbody tr th {\n",
       "        vertical-align: top;\n",
       "    }\n",
       "\n",
       "    .dataframe thead th {\n",
       "        text-align: right;\n",
       "    }\n",
       "</style>\n",
       "<table border=\"1\" class=\"dataframe\">\n",
       "  <thead>\n",
       "    <tr style=\"text-align: right;\">\n",
       "      <th></th>\n",
       "      <th>fixed acidity</th>\n",
       "      <th>volatile acidity</th>\n",
       "      <th>citric acid</th>\n",
       "      <th>residual sugar</th>\n",
       "      <th>chlorides</th>\n",
       "      <th>free sulfur dioxide</th>\n",
       "      <th>total sulfur dioxide</th>\n",
       "      <th>density</th>\n",
       "      <th>pH</th>\n",
       "      <th>sulphates</th>\n",
       "      <th>alcohol</th>\n",
       "    </tr>\n",
       "  </thead>\n",
       "  <tbody>\n",
       "    <tr>\n",
       "      <th>3879</th>\n",
       "      <td>6.8</td>\n",
       "      <td>0.73</td>\n",
       "      <td>0.20</td>\n",
       "      <td>6.6</td>\n",
       "      <td>0.054</td>\n",
       "      <td>25.0</td>\n",
       "      <td>65.0</td>\n",
       "      <td>0.99324</td>\n",
       "      <td>3.12</td>\n",
       "      <td>0.28</td>\n",
       "      <td>11.1</td>\n",
       "    </tr>\n",
       "    <tr>\n",
       "      <th>2703</th>\n",
       "      <td>6.5</td>\n",
       "      <td>0.23</td>\n",
       "      <td>0.36</td>\n",
       "      <td>16.3</td>\n",
       "      <td>0.038</td>\n",
       "      <td>43.0</td>\n",
       "      <td>133.0</td>\n",
       "      <td>0.99924</td>\n",
       "      <td>3.26</td>\n",
       "      <td>0.41</td>\n",
       "      <td>8.8</td>\n",
       "    </tr>\n",
       "    <tr>\n",
       "      <th>3501</th>\n",
       "      <td>6.7</td>\n",
       "      <td>0.24</td>\n",
       "      <td>0.36</td>\n",
       "      <td>8.4</td>\n",
       "      <td>0.042</td>\n",
       "      <td>42.0</td>\n",
       "      <td>123.0</td>\n",
       "      <td>0.99473</td>\n",
       "      <td>3.34</td>\n",
       "      <td>0.52</td>\n",
       "      <td>10.9</td>\n",
       "    </tr>\n",
       "    <tr>\n",
       "      <th>2691</th>\n",
       "      <td>6.2</td>\n",
       "      <td>0.28</td>\n",
       "      <td>0.27</td>\n",
       "      <td>10.3</td>\n",
       "      <td>0.030</td>\n",
       "      <td>26.0</td>\n",
       "      <td>108.0</td>\n",
       "      <td>0.99388</td>\n",
       "      <td>3.20</td>\n",
       "      <td>0.36</td>\n",
       "      <td>10.7</td>\n",
       "    </tr>\n",
       "    <tr>\n",
       "      <th>706</th>\n",
       "      <td>6.2</td>\n",
       "      <td>0.31</td>\n",
       "      <td>0.21</td>\n",
       "      <td>6.3</td>\n",
       "      <td>0.041</td>\n",
       "      <td>50.0</td>\n",
       "      <td>218.0</td>\n",
       "      <td>0.99410</td>\n",
       "      <td>3.15</td>\n",
       "      <td>0.60</td>\n",
       "      <td>10.0</td>\n",
       "    </tr>\n",
       "  </tbody>\n",
       "</table>\n",
       "</div>"
      ],
      "text/plain": [
       "      fixed acidity  volatile acidity  citric acid  residual sugar  chlorides  \\\n",
       "3879            6.8              0.73         0.20             6.6      0.054   \n",
       "2703            6.5              0.23         0.36            16.3      0.038   \n",
       "3501            6.7              0.24         0.36             8.4      0.042   \n",
       "2691            6.2              0.28         0.27            10.3      0.030   \n",
       "706             6.2              0.31         0.21             6.3      0.041   \n",
       "\n",
       "      free sulfur dioxide  total sulfur dioxide  density    pH  sulphates  \\\n",
       "3879                 25.0                  65.0  0.99324  3.12       0.28   \n",
       "2703                 43.0                 133.0  0.99924  3.26       0.41   \n",
       "3501                 42.0                 123.0  0.99473  3.34       0.52   \n",
       "2691                 26.0                 108.0  0.99388  3.20       0.36   \n",
       "706                  50.0                 218.0  0.99410  3.15       0.60   \n",
       "\n",
       "      alcohol  \n",
       "3879     11.1  \n",
       "2703      8.8  \n",
       "3501     10.9  \n",
       "2691     10.7  \n",
       "706      10.0  "
      ]
     },
     "execution_count": 16,
     "metadata": {},
     "output_type": "execute_result"
    }
   ],
   "source": [
    "X_train.head()"
   ]
  },
  {
   "cell_type": "code",
   "execution_count": 18,
   "metadata": {},
   "outputs": [
    {
     "data": {
      "text/plain": [
       "3705    6\n",
       "4635    6\n",
       "712     6\n",
       "1546    6\n",
       "4584    6\n",
       "Name: quality, dtype: int64"
      ]
     },
     "execution_count": 18,
     "metadata": {},
     "output_type": "execute_result"
    }
   ],
   "source": [
    "y_test.head()"
   ]
  },
  {
   "cell_type": "code",
   "execution_count": 6,
   "metadata": {},
   "outputs": [
    {
     "data": {
      "text/plain": [
       "(4898, 12)"
      ]
     },
     "execution_count": 6,
     "metadata": {},
     "output_type": "execute_result"
    }
   ],
   "source": [
    "Wine.shape"
   ]
  },
  {
   "cell_type": "code",
   "execution_count": 23,
   "metadata": {},
   "outputs": [
    {
     "name": "stdout",
     "output_type": "stream",
     "text": [
      "[6 5 6 5 6 6 5 6 6 6 6 6 5 6 5 6 5 5 6 5 5 6 6 6 6 6 5 6 6 6 6 5 6 6 6 6 5\n",
      " 5 6 6 5 6 6 6 6 6 5 6 6 6 6 6 6 6 5 6 5 5 6 5 5 5 5 5 6 6 5 6 5 6 5 6 6 6\n",
      " 5 6 6 5 5 6 5 5 5 5 6 6 6 6 6 6 5 5 6 6 6 6 6 6 6 6 5 5 5 5 6 5 6 6 6 6 6\n",
      " 6 5 6 6 5 5 6 5 5 6 5 6 5 6 6 5 6 6 5 6 6 5 5 6 6 6 5 6 6 5 5 6 6 5 5 6 5\n",
      " 6 6 5 5 6 6 6 6 6 6 6 5 5 6 6 5 6 6 6 6 5 6 5 6 6 6 6 5 6 6 5 6 5 6 5 5 6\n",
      " 5 6 6 5 5 5 5 6 6 5 6 6 6 5 6 6 6 6 6 5 6 6 6 6 6 5 5 5 6 5 6 6 5 6 5 6 6\n",
      " 6 6 5 6 6 5 6 6 6 6 5 5 6 5 6 6 6 6 5 5 6 5 6 5 5 6 5 6 6 5 6 6 5 6 6 6 5\n",
      " 5 5 6 6 6 5 5 6 6 5 5 6 6 6 5 6 5 5 6 6 6 5 6 6 6 5 6 5 5 6 5 5 6 6 5 6 5\n",
      " 6 5 5 6 6 6 5 6 6 6 6 6 5 6 5 5 6 6 6 6 6 5 6 6 5 5 5 6 6 6 6 6 5 5 5 6 6\n",
      " 6 5 6 6 6 6 6 6 5 6 6 6 6 6 6 6 6 6 6 6 6 6 6 6 5 6 6 6 5 6 5 6 6 6 6 6 6\n",
      " 5 6 6 6 5 5 5 6 6 6 6 5 6 5 6 5 6 5 5 5 6 6 6 6 6 6 6 6 5 6 6 6 5 6 6 6 6\n",
      " 5 6 6 6 6 6 6 6 6 5 6 6 6 6 5 5 6 6 6 6 5 6 6 5 6 6 6 6 5 5 6 6 6 6 6 6 5\n",
      " 6 5 6 5 5 6 6 6 6 6 6 6 5 6 6 6 5 6 5 5 6 6 5 6 5 5 6 6 6 5 6 6 6 5 5 5 6\n",
      " 5 6 6 6 5 6 6 6 6 6 5 6 6 6 5 5 5 5 5 5 6 5 5 5 6 5 6 6 6 5 6 6 6 6 6 6 6\n",
      " 6 6 6 5 5 5 6 6 6 5 6 5 6 5 5 6 6 6 6 6 5 6 6 5 6 5 6 6 6 6 6 5 5 6 6 6 5\n",
      " 5 5 5 5 6 6 6 6 6 6 6 6 6 6 6 6 6 5 5 5 6 6 6 6 6 5 5 6 6 6 6 5 6 6 6 5 6\n",
      " 5 6 5 6 6 5 6 6 6 6 6 6 6 6 5 6 6 5 6 6 6 5 6 5 6 6 6 6 5 6 5 5 6 5 6 5 5\n",
      " 6 6 5 6 5 6 6 5 6 6 6 6 6 6 6 6 6 6 5 6 5 5 6 6 5 6 5 6 6 6 6 5 6 6 6 5 6\n",
      " 5 6 6 5 6 5 6 6 6 6 6 5 6 6 6 6 6 6 6 6 6 6 6 5 6 6 5 6 6 5 6 6 5 6 6 5 6\n",
      " 6 6 6 6 5 6 6 6 6 6 6 6 5 5 6 6 6 6 6 6 5 6 5 6 6 6 6 6 6 5 6 6 5 6 5 6 5\n",
      " 6 5 6 6 5 5 6 5 6 6 6 6 6 6 6 6 5 6 5 5 6 6 5 6 6 6 6 6 6 6 5 6 5 6 5 6 6\n",
      " 5 6 6 6 5 6 6 6 6 5 6 6 5 5 6 6 6 5 6 6 6 6 5 6 5 5 5 6 5 6 6 5 6 6 5 6 6\n",
      " 5 6 6 6 5 6 5 6 5 6 6 5 6 5 5 5 6 6 6 6 6 5 5 6 5 6 6 5 6 6 6 5 5 6 6 5 6\n",
      " 6 6 6 6 5 6 6 6 6 6 5 6 6 6 5 6 6 5 5 6 6 6 5 5 5 6 6 5 5 5 5 5 6 6 6 5 6\n",
      " 6 6 6 6 6 6 6 5 5 6 5 6 5 5 5 5 5 6 6 6 6 6 5 6 6 5 5 6 6 6 6 5 5 5 6 5 6\n",
      " 5 5 6 6 5 6 5 5 6 5 6 6 6 6 6 5 6 6 5 6 6 5 5 6 6 5 6 6 6 6 5 6 5 6 6 6 5\n",
      " 6 6 6 6 6 6 6 6 6 5 6 5 6 6 6 6 6 6]\n"
     ]
    }
   ],
   "source": [
    "from sklearn.tree import DecisionTreeClassifier\n",
    "DTClassifier_new = DecisionTreeClassifier (max_depth=2, criterion = \"entropy\",min_samples_leaf= 2,random_state = 0)\n",
    "DTClassifier_new.fit(X,y)\n",
    "predicted_labels = DTClassifier_new.predict(X_test)\n",
    "print(predicted_labels) #52"
   ]
  },
  {
   "cell_type": "code",
   "execution_count": 25,
   "metadata": {},
   "outputs": [
    {
     "name": "stdout",
     "output_type": "stream",
     "text": [
      "[5 5 6 5 6 6 5 6 6 6 6 6 5 6 5 6 5 5 6 5 5 6 7 6 6 6 5 6 6 6 6 5 6 6 6 6 5\n",
      " 5 6 6 5 6 6 6 7 6 5 6 6 6 6 5 6 6 5 6 5 5 6 5 5 5 5 5 6 6 5 6 5 6 5 6 6 6\n",
      " 5 6 6 5 5 5 5 5 5 5 6 6 6 6 6 6 5 5 7 6 6 6 6 6 5 6 5 5 5 5 6 5 6 6 6 6 7\n",
      " 6 5 6 6 5 5 6 5 5 6 5 5 5 5 7 5 6 6 5 7 6 5 5 6 7 6 5 7 6 5 5 6 6 5 5 6 5\n",
      " 6 6 5 5 6 6 6 6 6 6 6 5 5 6 6 5 6 6 6 6 5 6 5 5 6 7 6 5 6 6 5 6 5 6 5 5 6\n",
      " 5 7 6 5 5 5 5 7 6 5 6 6 6 5 6 6 6 6 6 5 5 6 7 6 6 5 5 5 6 5 6 7 5 6 5 6 6\n",
      " 6 6 5 6 6 5 6 6 6 6 5 5 6 5 6 6 5 6 5 5 6 5 6 5 5 6 5 5 6 5 6 7 5 6 7 6 5\n",
      " 5 5 6 7 6 5 5 7 6 5 5 7 6 6 5 6 5 5 6 6 6 5 6 6 6 5 6 5 5 6 5 5 5 6 5 7 5\n",
      " 5 5 5 6 6 5 5 6 5 7 7 6 5 7 5 5 6 6 6 5 6 5 6 6 5 5 5 6 5 6 5 6 5 5 5 6 6\n",
      " 7 5 6 6 6 6 5 7 5 5 6 5 6 6 6 7 6 7 6 6 6 7 6 6 5 6 6 6 5 6 5 6 6 6 6 6 5\n",
      " 5 5 6 7 5 5 5 6 6 6 6 5 7 5 6 5 6 5 5 5 6 6 7 6 6 6 6 6 5 6 5 6 5 6 6 5 6\n",
      " 5 6 6 6 6 6 6 6 6 5 6 6 6 6 5 5 6 6 7 6 5 6 6 5 6 6 7 7 5 5 6 7 6 7 7 6 5\n",
      " 6 5 6 5 5 6 6 7 6 6 6 5 5 6 6 6 5 6 5 5 5 6 5 6 5 5 6 6 6 5 6 6 6 5 5 5 6\n",
      " 5 6 6 5 5 6 6 6 6 6 5 6 7 6 5 5 5 5 5 5 7 5 5 5 6 5 6 7 6 5 6 6 6 7 6 6 6\n",
      " 6 6 6 5 5 5 6 6 6 5 6 5 6 5 5 5 6 6 5 5 5 7 6 5 5 5 6 6 6 6 6 5 5 6 6 6 5\n",
      " 5 5 5 5 6 5 5 5 6 6 6 7 7 6 6 5 5 5 5 5 7 6 6 6 6 5 5 6 7 6 6 5 6 6 6 5 6\n",
      " 5 6 5 6 6 5 6 6 6 6 6 6 6 6 5 6 6 5 6 6 6 5 6 5 6 6 6 6 5 6 5 5 6 5 6 5 5\n",
      " 7 5 5 6 5 6 6 5 6 6 6 6 6 6 6 6 6 6 5 6 5 5 6 6 5 6 5 7 6 6 6 5 6 6 6 5 5\n",
      " 5 6 5 5 6 5 6 6 6 6 7 5 6 6 6 6 6 6 6 6 6 6 6 5 7 7 5 6 6 5 6 6 5 6 6 5 6\n",
      " 5 6 5 5 5 6 6 6 7 5 6 5 5 5 6 7 6 6 5 6 5 6 5 6 5 6 6 5 6 5 6 6 5 6 5 6 5\n",
      " 6 5 6 7 5 5 6 5 6 5 5 5 6 6 6 6 5 7 5 5 6 6 5 6 6 5 6 6 6 6 5 7 5 7 5 6 6\n",
      " 5 6 6 6 5 6 6 6 6 5 6 6 5 5 6 6 6 5 7 6 6 6 5 7 5 5 5 7 5 5 5 5 6 7 5 6 5\n",
      " 5 7 5 7 5 6 5 6 5 5 7 5 6 5 5 5 6 5 6 6 6 5 5 7 5 6 6 5 5 6 5 5 5 6 6 5 6\n",
      " 6 6 6 6 5 6 6 6 6 6 5 6 6 6 5 6 7 5 5 6 6 6 5 5 5 7 6 5 5 5 5 5 6 5 6 5 6\n",
      " 6 6 6 6 6 6 6 5 5 6 5 5 5 5 5 5 5 7 5 6 6 6 5 6 6 5 5 6 6 6 6 5 5 5 6 5 6\n",
      " 5 5 6 5 5 6 5 5 6 5 6 6 7 6 7 5 6 6 5 6 6 5 5 6 7 5 5 6 6 5 5 6 5 6 6 6 5\n",
      " 6 6 5 6 6 5 6 5 6 5 6 5 6 7 6 6 6 5]\n"
     ]
    }
   ],
   "source": [
    "from sklearn.tree import DecisionTreeClassifier\n",
    "DTClassifier_new = DecisionTreeClassifier (max_depth=2, criterion = \"gini\",min_samples_leaf= 2,random_state = 100)\n",
    "DTClassifier_new.fit(X,y)\n",
    "predicted_labels = DTClassifier_new.predict(X_test)\n",
    "print(predicted_labels) #52"
   ]
  },
  {
   "cell_type": "code",
   "execution_count": 26,
   "metadata": {},
   "outputs": [
    {
     "name": "stdout",
     "output_type": "stream",
     "text": [
      "0.5255102040816326\n"
     ]
    }
   ],
   "source": [
    "accuracy_score_new = accuracy_score(y_test, predicted_labels)\n",
    "print(accuracy_score_new)"
   ]
  },
  {
   "cell_type": "code",
   "execution_count": 27,
   "metadata": {},
   "outputs": [
    {
     "data": {
      "text/plain": [
       "KNeighborsClassifier(algorithm='auto', leaf_size=30, metric='minkowski',\n",
       "           metric_params=None, n_jobs=None, n_neighbors=21, p=2,\n",
       "           weights='uniform')"
      ]
     },
     "execution_count": 27,
     "metadata": {},
     "output_type": "execute_result"
    }
   ],
   "source": [
    "# Call Nearest Neighbour algorithm\n",
    "from sklearn.neighbors import KNeighborsClassifier\n",
    "NNH = KNeighborsClassifier(n_neighbors=21)\n",
    "NNH.fit(X, y)\n",
    "#21"
   ]
  },
  {
   "cell_type": "code",
   "execution_count": 28,
   "metadata": {},
   "outputs": [
    {
     "name": "stdout",
     "output_type": "stream",
     "text": [
      "[6 6 6 6 5 5 5 6 6 7 6 5 6 6 6 5 5 7 6 6 6 6 5 6 5 5 6 6 6 6 5 6 7 6 6 5 6\n",
      " 5 7 6 4 6 6 6 6 8 5 6 6 6 6 6 6 5 6 6 5 6 7 5 6 6 5 5 5 5 7 5 6 6 5 6 6 6\n",
      " 6 5 6 5 5 5 5 6 6 5 6 6 6 6 6 6 6 6 6 7 5 7 5 5 6 6 6 6 5 5 6 5 5 6 6 6 6\n",
      " 5 6 6 7 5 5 6 5 6 6 5 5 5 6 5 6 6 5 5 6 6 6 5 6 6 6 6 5 5 6 7 5 7 6 6 6 5\n",
      " 6 6 6 5 6 6 6 7 6 6 7 7 6 6 6 5 7 6 6 7 5 6 6 6 5 6 6 5 7 6 5 5 5 6 5 5 6\n",
      " 6 6 6 6 5 5 6 7 5 5 6 6 6 6 5 6 8 7 6 6 6 6 6 6 6 6 5 5 5 5 6 6 6 6 5 6 6\n",
      " 6 6 6 6 6 5 5 6 6 7 5 5 6 5 6 5 5 6 5 6 6 5 6 5 6 6 6 5 6 6 5 7 6 6 6 6 5\n",
      " 6 5 6 7 6 5 5 6 6 6 6 6 6 6 6 4 7 6 6 6 6 6 6 5 7 5 6 5 5 5 5 6 6 7 5 6 5\n",
      " 6 5 5 7 6 5 6 6 5 7 6 6 5 6 6 5 6 6 6 6 6 6 6 6 6 6 5 5 6 6 6 7 6 5 6 6 6\n",
      " 6 5 6 6 6 6 6 6 5 7 7 6 6 6 6 6 7 6 6 6 6 6 6 5 5 7 6 5 6 6 5 6 7 6 6 7 6\n",
      " 6 5 5 7 6 5 6 6 7 6 6 5 6 5 6 6 5 5 6 6 6 6 6 6 5 6 6 6 6 6 5 5 6 7 6 5 6\n",
      " 5 7 6 5 6 7 6 6 5 5 6 6 5 5 5 6 6 5 6 6 5 6 5 5 7 7 6 6 5 5 7 6 6 6 6 6 6\n",
      " 7 5 6 5 6 7 7 6 6 6 6 6 5 5 6 5 6 5 5 5 6 5 6 6 6 5 6 6 7 6 6 6 5 5 5 6 6\n",
      " 5 7 6 6 5 5 6 6 5 6 7 5 6 6 6 5 6 6 6 5 6 5 5 6 6 5 6 6 7 6 6 5 6 6 6 6 7\n",
      " 6 7 6 4 5 5 6 6 6 6 5 6 6 6 6 7 6 6 6 5 4 6 6 6 7 5 6 6 7 6 5 6 6 6 5 6 5\n",
      " 6 5 5 5 6 6 6 5 5 5 6 6 6 6 5 6 5 5 5 6 6 6 6 6 6 6 6 5 6 7 7 5 6 7 4 5 5\n",
      " 5 6 5 7 6 6 5 7 6 6 6 6 6 7 5 6 6 6 6 6 5 7 6 5 6 6 6 6 5 6 6 6 6 6 6 5 5\n",
      " 7 5 6 6 5 6 6 6 6 7 6 7 7 6 6 5 7 6 6 7 6 5 6 5 6 6 6 5 5 5 6 5 6 6 6 6 7\n",
      " 5 5 6 6 6 4 6 6 6 5 7 5 6 6 6 7 6 6 6 5 6 6 6 5 6 7 5 7 5 5 6 6 5 6 6 6 6\n",
      " 6 6 6 6 6 5 6 6 7 5 7 5 5 6 7 7 6 6 6 6 6 6 5 6 6 6 6 6 6 5 6 6 6 6 6 6 5\n",
      " 6 6 6 6 6 5 7 5 6 6 5 5 6 5 5 6 6 7 6 5 7 6 6 4 5 6 7 5 6 6 6 5 5 6 5 6 6\n",
      " 6 6 7 6 6 6 5 6 5 5 6 5 6 6 7 6 6 5 6 6 6 6 5 7 5 6 6 5 5 6 6 5 5 6 6 5 5\n",
      " 6 6 5 7 5 6 5 6 5 6 6 6 5 5 6 6 6 5 7 6 6 5 7 5 6 6 6 6 5 6 5 6 7 6 6 6 6\n",
      " 5 7 6 7 6 6 6 6 5 6 5 6 7 6 6 6 7 6 5 6 6 6 5 6 6 7 6 6 7 6 5 5 6 6 5 5 7\n",
      " 5 6 6 7 6 7 6 5 6 6 5 6 6 6 5 7 5 6 5 7 5 5 5 6 6 6 5 6 6 7 6 6 6 5 6 6 6\n",
      " 5 6 6 6 5 6 5 6 5 5 6 6 6 7 6 6 6 5 5 5 6 6 5 6 6 6 5 6 6 6 5 6 5 6 6 6 6\n",
      " 5 7 6 6 7 6 7 6 6 5 6 6 7 5 6 5 6 5]\n"
     ]
    }
   ],
   "source": [
    "\n",
    "predicted_labels = NNH.predict(X_test)\n",
    "print(predicted_labels)"
   ]
  },
  {
   "cell_type": "code",
   "execution_count": 29,
   "metadata": {},
   "outputs": [
    {
     "name": "stdout",
     "output_type": "stream",
     "text": [
      "0.523469387755102\n"
     ]
    }
   ],
   "source": [
    "accuracy_score_new = accuracy_score(y_test, predicted_labels)\n",
    "print(accuracy_score_new)"
   ]
  },
  {
   "cell_type": "code",
   "execution_count": 30,
   "metadata": {},
   "outputs": [],
   "source": [
    "import pandas as pd\n",
    "from sklearn.linear_model import LogisticRegression\n",
    "from sklearn.naive_bayes import GaussianNB\n",
    "\n",
    "# importing ploting libraries\n",
    "import matplotlib.pyplot as plt   \n",
    "\n",
    "#importing seaborn for statistical plots\n",
    "import seaborn as sns\n",
    "\n",
    "#Let us break the X and y dataframes into training set and test set. For this we will use\n",
    "#Sklearn package's data splitting function which is based on random function\n",
    "\n",
    "from sklearn.model_selection import train_test_split\n",
    "\n",
    "import numpy as np\n",
    "\n",
    "# calculate accuracy measures and confusion matrix\n",
    "from sklearn import metrics"
   ]
  },
  {
   "cell_type": "code",
   "execution_count": 31,
   "metadata": {},
   "outputs": [
    {
     "data": {
      "text/plain": [
       "GaussianNB(priors=None, var_smoothing=1e-09)"
      ]
     },
     "execution_count": 31,
     "metadata": {},
     "output_type": "execute_result"
    }
   ],
   "source": [
    "# Invoking the NB Gaussian function to create the model\n",
    "# fitting the model in the training data set\n",
    "model = GaussianNB()\n",
    "model.fit(X_train, y_train)"
   ]
  },
  {
   "cell_type": "code",
   "execution_count": 32,
   "metadata": {
    "scrolled": true
   },
   "outputs": [
    {
     "name": "stdout",
     "output_type": "stream",
     "text": [
      "              precision    recall  f1-score   support\n",
      "\n",
      "           3       0.00      0.00      0.00         4\n",
      "           4       0.35      0.21      0.26        33\n",
      "           5       0.53      0.60      0.56       291\n",
      "           6       0.55      0.32      0.40       440\n",
      "           7       0.38      0.78      0.51       176\n",
      "           8       0.00      0.00      0.00        35\n",
      "           9       0.00      0.00      0.00         1\n",
      "\n",
      "   micro avg       0.47      0.47      0.47       980\n",
      "   macro avg       0.26      0.27      0.25       980\n",
      "weighted avg       0.48      0.47      0.45       980\n",
      "\n",
      "[[  0   3   0   1   0   0   0]\n",
      " [  1   7  11   8   6   0   0]\n",
      " [  0   6 176  79  29   1   0]\n",
      " [  1   4 131 141 162   1   0]\n",
      " [  0   0  14  23 137   2   0]\n",
      " [  1   0   3   6  25   0   0]\n",
      " [  0   0   0   0   1   0   0]]\n"
     ]
    },
    {
     "name": "stderr",
     "output_type": "stream",
     "text": [
      "C:\\ProgramData\\Anaconda4\\lib\\site-packages\\sklearn\\metrics\\classification.py:1143: UndefinedMetricWarning: Precision and F-score are ill-defined and being set to 0.0 in labels with no predicted samples.\n",
      "  'precision', 'predicted', average, warn_for)\n",
      "C:\\ProgramData\\Anaconda4\\lib\\site-packages\\sklearn\\metrics\\classification.py:1143: UndefinedMetricWarning: Precision and F-score are ill-defined and being set to 0.0 in labels with no predicted samples.\n",
      "  'precision', 'predicted', average, warn_for)\n",
      "C:\\ProgramData\\Anaconda4\\lib\\site-packages\\sklearn\\metrics\\classification.py:1143: UndefinedMetricWarning: Precision and F-score are ill-defined and being set to 0.0 in labels with no predicted samples.\n",
      "  'precision', 'predicted', average, warn_for)\n"
     ]
    }
   ],
   "source": [
    "# make predictions\n",
    "expected = y_test\n",
    "predicted = model.predict(X_test)\n",
    "# summarize the fit of the model\n",
    "print(metrics.classification_report(expected, predicted))\n",
    "print(metrics.confusion_matrix(expected, predicted))"
   ]
  },
  {
   "cell_type": "code",
   "execution_count": 34,
   "metadata": {},
   "outputs": [
    {
     "name": "stdout",
     "output_type": "stream",
     "text": [
      "0.4704081632653061\n"
     ]
    }
   ],
   "source": [
    "accuracy_score_new = accuracy_score(y_test, predicted)\n",
    "print(accuracy_score_new)"
   ]
  },
  {
   "cell_type": "code",
   "execution_count": 35,
   "metadata": {},
   "outputs": [
    {
     "name": "stderr",
     "output_type": "stream",
     "text": [
      "C:\\ProgramData\\Anaconda4\\lib\\site-packages\\scipy\\stats\\stats.py:1713: FutureWarning: Using a non-tuple sequence for multidimensional indexing is deprecated; use `arr[tuple(seq)]` instead of `arr[seq]`. In the future this will be interpreted as an array index, `arr[np.array(seq)]`, which will result either in an error or a different result.\n",
      "  return np.add.reduce(sorted[indexer] * weights, axis=axis) / sumval\n"
     ]
    },
    {
     "data": {
      "text/plain": [
       "<matplotlib.axes._subplots.AxesSubplot at 0x56b5748>"
      ]
     },
     "execution_count": 35,
     "metadata": {},
     "output_type": "execute_result"
    },
    {
     "data": {
      "image/png": "[encoded data removed]",
      "text/plain": [
       "<Figure size 720x432 with 1 Axes>"
      ]
     },
     "metadata": {
      "needs_background": "light"
     },
     "output_type": "display_data"
    }
   ],
   "source": [
    "fig = plt.figure(figsize = (10,6))\n",
    "sns.barplot(x = 'quality', y = 'fixed acidity', data = Wine)"
   ]
  },
  {
   "cell_type": "code",
   "execution_count": 36,
   "metadata": {},
   "outputs": [
    {
     "name": "stderr",
     "output_type": "stream",
     "text": [
      "C:\\ProgramData\\Anaconda4\\lib\\site-packages\\scipy\\stats\\stats.py:1713: FutureWarning: Using a non-tuple sequence for multidimensional indexing is deprecated; use `arr[tuple(seq)]` instead of `arr[seq]`. In the future this will be interpreted as an array index, `arr[np.array(seq)]`, which will result either in an error or a different result.\n",
      "  return np.add.reduce(sorted[indexer] * weights, axis=axis) / sumval\n"
     ]
    },
    {
     "data": {
      "text/plain": [
       "<matplotlib.axes._subplots.AxesSubplot at 0x6b48f98>"
      ]
     },
     "execution_count": 36,
     "metadata": {},
     "output_type": "execute_result"
    },
    {
     "data": {
      "image/png": "[encoded data removed]",
      "text/plain": [
       "<Figure size 720x432 with 1 Axes>"
      ]
     },
     "metadata": {
      "needs_background": "light"
     },
     "output_type": "display_data"
    }
   ],
   "source": [
    "#Here we see that its quite a downing trend in the volatile acidity as we go higher the quality \n",
    "fig = plt.figure(figsize = (10,6))\n",
    "sns.barplot(x = 'quality', y = 'volatile acidity', data = Wine)"
   ]
  },
  {
   "cell_type": "code",
   "execution_count": 37,
   "metadata": {},
   "outputs": [
    {
     "name": "stderr",
     "output_type": "stream",
     "text": [
      "C:\\ProgramData\\Anaconda4\\lib\\site-packages\\scipy\\stats\\stats.py:1713: FutureWarning: Using a non-tuple sequence for multidimensional indexing is deprecated; use `arr[tuple(seq)]` instead of `arr[seq]`. In the future this will be interpreted as an array index, `arr[np.array(seq)]`, which will result either in an error or a different result.\n",
      "  return np.add.reduce(sorted[indexer] * weights, axis=axis) / sumval\n"
     ]
    },
    {
     "data": {
      "text/plain": [
       "<matplotlib.axes._subplots.AxesSubplot at 0x6b16ef0>"
      ]
     },
     "execution_count": 37,
     "metadata": {},
     "output_type": "execute_result"
    },
    {
     "data": {
      "image/png": "[encoded data removed]",
      "text/plain": [
       "<Figure size 720x432 with 1 Axes>"
      ]
     },
     "metadata": {
      "needs_background": "light"
     },
     "output_type": "display_data"
    }
   ],
   "source": [
    "#Composition of citric acid go higher as we go higher in the quality of the wine\n",
    "fig = plt.figure(figsize = (10,6))\n",
    "sns.barplot(x = 'quality', y = 'citric acid', data = Wine)"
   ]
  },
  {
   "cell_type": "code",
   "execution_count": 38,
   "metadata": {},
   "outputs": [
    {
     "name": "stderr",
     "output_type": "stream",
     "text": [
      "C:\\ProgramData\\Anaconda4\\lib\\site-packages\\scipy\\stats\\stats.py:1713: FutureWarning: Using a non-tuple sequence for multidimensional indexing is deprecated; use `arr[tuple(seq)]` instead of `arr[seq]`. In the future this will be interpreted as an array index, `arr[np.array(seq)]`, which will result either in an error or a different result.\n",
      "  return np.add.reduce(sorted[indexer] * weights, axis=axis) / sumval\n"
     ]
    },
    {
     "data": {
      "text/plain": [
       "<matplotlib.axes._subplots.AxesSubplot at 0xb807710>"
      ]
     },
     "execution_count": 38,
     "metadata": {},
     "output_type": "execute_result"
    },
    {
     "data": {
      "image/png": "[encoded data removed]",
      "text/plain": [
       "<Figure size 720x432 with 1 Axes>"
      ]
     },
     "metadata": {
      "needs_background": "light"
     },
     "output_type": "display_data"
    }
   ],
   "source": [
    "#Composition of chloride also go down as we go higher in the quality of the wine\n",
    "fig = plt.figure(figsize = (10,6))\n",
    "sns.barplot(x = 'quality', y = 'chlorides', data = Wine)"
   ]
  },
  {
   "cell_type": "code",
   "execution_count": 39,
   "metadata": {},
   "outputs": [
    {
     "name": "stderr",
     "output_type": "stream",
     "text": [
      "C:\\ProgramData\\Anaconda4\\lib\\site-packages\\scipy\\stats\\stats.py:1713: FutureWarning: Using a non-tuple sequence for multidimensional indexing is deprecated; use `arr[tuple(seq)]` instead of `arr[seq]`. In the future this will be interpreted as an array index, `arr[np.array(seq)]`, which will result either in an error or a different result.\n",
      "  return np.add.reduce(sorted[indexer] * weights, axis=axis) / sumval\n"
     ]
    },
    {
     "data": {
      "text/plain": [
       "<matplotlib.axes._subplots.AxesSubplot at 0xb799748>"
      ]
     },
     "execution_count": 39,
     "metadata": {},
     "output_type": "execute_result"
    },
    {
     "data": {
      "image/png": "[encoded data removed]",
      "text/plain": [
       "<Figure size 720x432 with 1 Axes>"
      ]
     },
     "metadata": {
      "needs_background": "light"
     },
     "output_type": "display_data"
    }
   ],
   "source": [
    "#Sulphates level goes higher with the quality of wine\n",
    "fig = plt.figure(figsize = (10,6))\n",
    "sns.barplot(x = 'quality', y = 'sulphates', data = Wine)"
   ]
  },
  {
   "cell_type": "code",
   "execution_count": 40,
   "metadata": {},
   "outputs": [
    {
     "name": "stderr",
     "output_type": "stream",
     "text": [
      "C:\\ProgramData\\Anaconda4\\lib\\site-packages\\scipy\\stats\\stats.py:1713: FutureWarning: Using a non-tuple sequence for multidimensional indexing is deprecated; use `arr[tuple(seq)]` instead of `arr[seq]`. In the future this will be interpreted as an array index, `arr[np.array(seq)]`, which will result either in an error or a different result.\n",
      "  return np.add.reduce(sorted[indexer] * weights, axis=axis) / sumval\n"
     ]
    },
    {
     "data": {
      "text/plain": [
       "<matplotlib.axes._subplots.AxesSubplot at 0xb8017b8>"
      ]
     },
     "execution_count": 40,
     "metadata": {},
     "output_type": "execute_result"
    },
    {
     "data": {
      "image/png": "[encoded data removed]",
      "text/plain": [
       "<Figure size 720x432 with 1 Axes>"
      ]
     },
     "metadata": {
      "needs_background": "light"
     },
     "output_type": "display_data"
    }
   ],
   "source": [
    "#Alcohol level also goes higher as the quality of wine increases\n",
    "fig = plt.figure(figsize = (10,6))\n",
    "sns.barplot(x = 'quality', y = 'alcohol', data = Wine)"
   ]
  },
  {
   "cell_type": "code",
   "execution_count": null,
   "metadata": {},
   "outputs": [],
   "source": []
  }
 ],
 "metadata": {
  "kernelspec": {
   "display_name": "Python 3",
   "language": "python",
   "name": "python3"
  },
  "language_info": {
   "codemirror_mode": {
    "name": "ipython",
    "version": 3
   },
   "file_extension": ".py",
   "mimetype": "text/x-python",
   "name": "python",
   "nbconvert_exporter": "python",
   "pygments_lexer": "ipython3",
   "version": "3.7.0"
  }
 },
 "nbformat": 4,
 "nbformat_minor": 2
}
