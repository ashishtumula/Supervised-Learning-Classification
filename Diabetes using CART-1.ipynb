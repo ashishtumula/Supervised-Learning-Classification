{
 "cells": [
  {
   "cell_type": "code",
   "execution_count": 1,
   "metadata": {},
   "outputs": [],
   "source": [
    "import pandas as pd\n",
    "import numpy as np\n",
    "import math\n",
    "import matplotlib.pyplot as plt\n",
    "import seaborn as sns\n",
    "from sklearn.model_selection import train_test_split\n",
    "from sklearn.preprocessing import StandardScaler\n",
    "from sklearn.linear_model import LogisticRegression\n",
    "from sklearn.tree import DecisionTreeClassifier\n",
    "from sklearn.neighbors import KNeighborsClassifier"
   ]
  },
  {
   "cell_type": "code",
   "execution_count": 2,
   "metadata": {},
   "outputs": [],
   "source": [
    "health=pd.read_excel('diabeticdata.xlsx',sheet_name='Data')"
   ]
  },
  {
   "cell_type": "code",
   "execution_count": 3,
   "metadata": {},
   "outputs": [
    {
     "data": {
      "text/html": [
       "<div>\n",
       "<style scoped>\n",
       "    .dataframe tbody tr th:only-of-type {\n",
       "        vertical-align: middle;\n",
       "    }\n",
       "\n",
       "    .dataframe tbody tr th {\n",
       "        vertical-align: top;\n",
       "    }\n",
       "\n",
       "    .dataframe thead th {\n",
       "        text-align: right;\n",
       "    }\n",
       "</style>\n",
       "<table border=\"1\" class=\"dataframe\">\n",
       "  <thead>\n",
       "    <tr style=\"text-align: right;\">\n",
       "      <th></th>\n",
       "      <th>patient_id</th>\n",
       "      <th>line1stdate</th>\n",
       "      <th>line2stdate</th>\n",
       "      <th>age</th>\n",
       "      <th>gender</th>\n",
       "      <th>agegroup</th>\n",
       "      <th>sbpn</th>\n",
       "      <th>dbpn</th>\n",
       "      <th>smokingstatus</th>\n",
       "      <th>Diseasecode</th>\n",
       "      <th>hospitalsize</th>\n",
       "      <th>durationofline1</th>\n",
       "      <th>line1drugcombination</th>\n",
       "      <th>line2drugcombination</th>\n",
       "      <th>line1drugs</th>\n",
       "      <th>line2drugs</th>\n",
       "      <th>curestatus</th>\n",
       "    </tr>\n",
       "  </thead>\n",
       "  <tbody>\n",
       "    <tr>\n",
       "      <th>0</th>\n",
       "      <td>MB0001</td>\n",
       "      <td>2010-06-19</td>\n",
       "      <td>2010-07-19</td>\n",
       "      <td>26.746064</td>\n",
       "      <td>Male</td>\n",
       "      <td>20 – 34 years</td>\n",
       "      <td>109.0</td>\n",
       "      <td>63.0</td>\n",
       "      <td>Non-smoker</td>\n",
       "      <td>D1</td>\n",
       "      <td>More then 450 Number of beds</td>\n",
       "      <td>1</td>\n",
       "      <td>Unfixed</td>\n",
       "      <td>Unfixed</td>\n",
       "      <td>Drug2</td>\n",
       "      <td>Drug3+Drug2</td>\n",
       "      <td>0</td>\n",
       "    </tr>\n",
       "    <tr>\n",
       "      <th>1</th>\n",
       "      <td>MB0002</td>\n",
       "      <td>2014-12-19</td>\n",
       "      <td>2015-02-19</td>\n",
       "      <td>54.332649</td>\n",
       "      <td>Male</td>\n",
       "      <td>50 - 64 years</td>\n",
       "      <td>119.0</td>\n",
       "      <td>87.0</td>\n",
       "      <td>Current smoker</td>\n",
       "      <td>D6</td>\n",
       "      <td>1-50 number of beds</td>\n",
       "      <td>2</td>\n",
       "      <td>Unfixed</td>\n",
       "      <td>Unfixed</td>\n",
       "      <td>Drug3</td>\n",
       "      <td>Drug3+Drug2</td>\n",
       "      <td>1</td>\n",
       "    </tr>\n",
       "    <tr>\n",
       "      <th>2</th>\n",
       "      <td>MB0003</td>\n",
       "      <td>2011-07-20</td>\n",
       "      <td>2011-09-20</td>\n",
       "      <td>47.249829</td>\n",
       "      <td>Female</td>\n",
       "      <td>35 – 49 years</td>\n",
       "      <td>110.0</td>\n",
       "      <td>64.0</td>\n",
       "      <td>Non-smoker</td>\n",
       "      <td>D6</td>\n",
       "      <td>1-50 number of beds</td>\n",
       "      <td>2</td>\n",
       "      <td>Unfixed</td>\n",
       "      <td>Unfixed</td>\n",
       "      <td>Drug3</td>\n",
       "      <td>Drug3+Drug2</td>\n",
       "      <td>1</td>\n",
       "    </tr>\n",
       "    <tr>\n",
       "      <th>3</th>\n",
       "      <td>MB0004</td>\n",
       "      <td>2017-07-29</td>\n",
       "      <td>2017-08-05</td>\n",
       "      <td>63.028063</td>\n",
       "      <td>Female</td>\n",
       "      <td>50 - 64 years</td>\n",
       "      <td>140.0</td>\n",
       "      <td>84.0</td>\n",
       "      <td>NaN</td>\n",
       "      <td>D2</td>\n",
       "      <td>1-50 number of beds</td>\n",
       "      <td>0</td>\n",
       "      <td>Unfixed</td>\n",
       "      <td>Unfixed</td>\n",
       "      <td>Drug5</td>\n",
       "      <td>Drug1+Drug5</td>\n",
       "      <td>1</td>\n",
       "    </tr>\n",
       "    <tr>\n",
       "      <th>4</th>\n",
       "      <td>MB0005</td>\n",
       "      <td>2010-10-19</td>\n",
       "      <td>2014-03-19</td>\n",
       "      <td>48.082136</td>\n",
       "      <td>Female</td>\n",
       "      <td>35 – 49 years</td>\n",
       "      <td>157.0</td>\n",
       "      <td>96.0</td>\n",
       "      <td>Non-smoker</td>\n",
       "      <td>D6</td>\n",
       "      <td>More then 450 Number of beds</td>\n",
       "      <td>41</td>\n",
       "      <td>Unfixed</td>\n",
       "      <td>Unfixed</td>\n",
       "      <td>Drug3</td>\n",
       "      <td>Drug3+Drug2</td>\n",
       "      <td>0</td>\n",
       "    </tr>\n",
       "  </tbody>\n",
       "</table>\n",
       "</div>"
      ],
      "text/plain": [
       "  patient_id line1stdate line2stdate        age  gender       agegroup   sbpn  \\\n",
       "0     MB0001  2010-06-19  2010-07-19  26.746064    Male  20 – 34 years  109.0   \n",
       "1     MB0002  2014-12-19  2015-02-19  54.332649    Male  50 - 64 years  119.0   \n",
       "2     MB0003  2011-07-20  2011-09-20  47.249829  Female  35 – 49 years  110.0   \n",
       "3     MB0004  2017-07-29  2017-08-05  63.028063  Female  50 - 64 years  140.0   \n",
       "4     MB0005  2010-10-19  2014-03-19  48.082136  Female  35 – 49 years  157.0   \n",
       "\n",
       "   dbpn   smokingstatus Diseasecode                  hospitalsize  \\\n",
       "0  63.0      Non-smoker          D1  More then 450 Number of beds   \n",
       "1  87.0  Current smoker          D6           1-50 number of beds   \n",
       "2  64.0      Non-smoker          D6           1-50 number of beds   \n",
       "3  84.0             NaN          D2           1-50 number of beds   \n",
       "4  96.0      Non-smoker          D6  More then 450 Number of beds   \n",
       "\n",
       "   durationofline1 line1drugcombination line2drugcombination line1drugs  \\\n",
       "0                1              Unfixed              Unfixed      Drug2   \n",
       "1                2              Unfixed              Unfixed      Drug3   \n",
       "2                2              Unfixed              Unfixed      Drug3   \n",
       "3                0              Unfixed              Unfixed      Drug5   \n",
       "4               41              Unfixed              Unfixed      Drug3   \n",
       "\n",
       "    line2drugs  curestatus  \n",
       "0  Drug3+Drug2           0  \n",
       "1  Drug3+Drug2           1  \n",
       "2  Drug3+Drug2           1  \n",
       "3  Drug1+Drug5           1  \n",
       "4  Drug3+Drug2           0  "
      ]
     },
     "execution_count": 3,
     "metadata": {},
     "output_type": "execute_result"
    }
   ],
   "source": [
    "health.head()"
   ]
  },
  {
   "cell_type": "code",
   "execution_count": 4,
   "metadata": {},
   "outputs": [
    {
     "data": {
      "text/plain": [
       "(1400, 17)"
      ]
     },
     "execution_count": 4,
     "metadata": {},
     "output_type": "execute_result"
    }
   ],
   "source": [
    "health.shape"
   ]
  },
  {
   "cell_type": "code",
   "execution_count": 5,
   "metadata": {},
   "outputs": [
    {
     "data": {
      "text/plain": [
       "patient_id                      object\n",
       "line1stdate             datetime64[ns]\n",
       "line2stdate             datetime64[ns]\n",
       "age                            float64\n",
       "gender                          object\n",
       "agegroup                        object\n",
       "sbpn                           float64\n",
       "dbpn                           float64\n",
       "smokingstatus                   object\n",
       "Diseasecode                     object\n",
       "hospitalsize                    object\n",
       "durationofline1                  int64\n",
       "line1drugcombination            object\n",
       "line2drugcombination            object\n",
       "line1drugs                      object\n",
       "line2drugs                      object\n",
       "curestatus                       int64\n",
       "dtype: object"
      ]
     },
     "execution_count": 5,
     "metadata": {},
     "output_type": "execute_result"
    }
   ],
   "source": [
    "health.dtypes"
   ]
  },
  {
   "cell_type": "code",
   "execution_count": 6,
   "metadata": {},
   "outputs": [
    {
     "data": {
      "text/html": [
       "<div>\n",
       "<style scoped>\n",
       "    .dataframe tbody tr th:only-of-type {\n",
       "        vertical-align: middle;\n",
       "    }\n",
       "\n",
       "    .dataframe tbody tr th {\n",
       "        vertical-align: top;\n",
       "    }\n",
       "\n",
       "    .dataframe thead th {\n",
       "        text-align: right;\n",
       "    }\n",
       "</style>\n",
       "<table border=\"1\" class=\"dataframe\">\n",
       "  <thead>\n",
       "    <tr style=\"text-align: right;\">\n",
       "      <th></th>\n",
       "      <th>count</th>\n",
       "      <th>mean</th>\n",
       "      <th>std</th>\n",
       "      <th>min</th>\n",
       "      <th>25%</th>\n",
       "      <th>50%</th>\n",
       "      <th>75%</th>\n",
       "      <th>max</th>\n",
       "    </tr>\n",
       "  </thead>\n",
       "  <tbody>\n",
       "    <tr>\n",
       "      <th>age</th>\n",
       "      <td>1400.0</td>\n",
       "      <td>49.738660</td>\n",
       "      <td>10.190028</td>\n",
       "      <td>20.188912</td>\n",
       "      <td>43.056126</td>\n",
       "      <td>49.549624</td>\n",
       "      <td>56.488706</td>\n",
       "      <td>73.982204</td>\n",
       "    </tr>\n",
       "    <tr>\n",
       "      <th>sbpn</th>\n",
       "      <td>1037.0</td>\n",
       "      <td>124.205400</td>\n",
       "      <td>16.783520</td>\n",
       "      <td>71.000000</td>\n",
       "      <td>112.000000</td>\n",
       "      <td>123.000000</td>\n",
       "      <td>134.000000</td>\n",
       "      <td>193.000000</td>\n",
       "    </tr>\n",
       "    <tr>\n",
       "      <th>dbpn</th>\n",
       "      <td>1037.0</td>\n",
       "      <td>76.632594</td>\n",
       "      <td>11.570792</td>\n",
       "      <td>44.000000</td>\n",
       "      <td>68.000000</td>\n",
       "      <td>76.000000</td>\n",
       "      <td>84.000000</td>\n",
       "      <td>125.000000</td>\n",
       "    </tr>\n",
       "    <tr>\n",
       "      <th>durationofline1</th>\n",
       "      <td>1400.0</td>\n",
       "      <td>12.562143</td>\n",
       "      <td>15.502648</td>\n",
       "      <td>0.000000</td>\n",
       "      <td>2.000000</td>\n",
       "      <td>6.000000</td>\n",
       "      <td>18.000000</td>\n",
       "      <td>101.000000</td>\n",
       "    </tr>\n",
       "    <tr>\n",
       "      <th>curestatus</th>\n",
       "      <td>1400.0</td>\n",
       "      <td>0.410000</td>\n",
       "      <td>0.492009</td>\n",
       "      <td>0.000000</td>\n",
       "      <td>0.000000</td>\n",
       "      <td>0.000000</td>\n",
       "      <td>1.000000</td>\n",
       "      <td>1.000000</td>\n",
       "    </tr>\n",
       "  </tbody>\n",
       "</table>\n",
       "</div>"
      ],
      "text/plain": [
       "                  count        mean        std        min         25%  \\\n",
       "age              1400.0   49.738660  10.190028  20.188912   43.056126   \n",
       "sbpn             1037.0  124.205400  16.783520  71.000000  112.000000   \n",
       "dbpn             1037.0   76.632594  11.570792  44.000000   68.000000   \n",
       "durationofline1  1400.0   12.562143  15.502648   0.000000    2.000000   \n",
       "curestatus       1400.0    0.410000   0.492009   0.000000    0.000000   \n",
       "\n",
       "                        50%         75%         max  \n",
       "age               49.549624   56.488706   73.982204  \n",
       "sbpn             123.000000  134.000000  193.000000  \n",
       "dbpn              76.000000   84.000000  125.000000  \n",
       "durationofline1    6.000000   18.000000  101.000000  \n",
       "curestatus         0.000000    1.000000    1.000000  "
      ]
     },
     "execution_count": 6,
     "metadata": {},
     "output_type": "execute_result"
    }
   ],
   "source": [
    "health.describe().T"
   ]
  },
  {
   "cell_type": "code",
   "execution_count": 7,
   "metadata": {},
   "outputs": [
    {
     "name": "stdout",
     "output_type": "stream",
     "text": [
      "<class 'pandas.core.frame.DataFrame'>\n",
      "RangeIndex: 1400 entries, 0 to 1399\n",
      "Data columns (total 17 columns):\n",
      "patient_id              1400 non-null object\n",
      "line1stdate             1400 non-null datetime64[ns]\n",
      "line2stdate             1400 non-null datetime64[ns]\n",
      "age                     1400 non-null float64\n",
      "gender                  1400 non-null object\n",
      "agegroup                1400 non-null object\n",
      "sbpn                    1037 non-null float64\n",
      "dbpn                    1037 non-null float64\n",
      "smokingstatus           934 non-null object\n",
      "Diseasecode             1400 non-null object\n",
      "hospitalsize            1400 non-null object\n",
      "durationofline1         1400 non-null int64\n",
      "line1drugcombination    1400 non-null object\n",
      "line2drugcombination    1400 non-null object\n",
      "line1drugs              1400 non-null object\n",
      "line2drugs              1400 non-null object\n",
      "curestatus              1400 non-null int64\n",
      "dtypes: datetime64[ns](2), float64(3), int64(2), object(10)\n",
      "memory usage: 186.0+ KB\n"
     ]
    }
   ],
   "source": [
    "health.info()"
   ]
  },
  {
   "cell_type": "code",
   "execution_count": 8,
   "metadata": {},
   "outputs": [
    {
     "data": {
      "text/plain": [
       "patient_id                0\n",
       "line1stdate               0\n",
       "line2stdate               0\n",
       "age                       0\n",
       "gender                    0\n",
       "agegroup                  0\n",
       "sbpn                    363\n",
       "dbpn                    363\n",
       "smokingstatus           466\n",
       "Diseasecode               0\n",
       "hospitalsize              0\n",
       "durationofline1           0\n",
       "line1drugcombination      0\n",
       "line2drugcombination      0\n",
       "line1drugs                0\n",
       "line2drugs                0\n",
       "curestatus                0\n",
       "dtype: int64"
      ]
     },
     "execution_count": 8,
     "metadata": {},
     "output_type": "execute_result"
    }
   ],
   "source": [
    "health.isnull().sum()"
   ]
  },
  {
   "cell_type": "markdown",
   "metadata": {},
   "source": [
    "# Gender"
   ]
  },
  {
   "cell_type": "code",
   "execution_count": 9,
   "metadata": {},
   "outputs": [
    {
     "name": "stdout",
     "output_type": "stream",
     "text": [
      "Male      801\n",
      "Female    594\n",
      "Malee       5\n",
      "Name: gender, dtype: int64\n"
     ]
    }
   ],
   "source": [
    "print(health.gender.value_counts())"
   ]
  },
  {
   "cell_type": "code",
   "execution_count": 10,
   "metadata": {},
   "outputs": [],
   "source": [
    "health['gender'].replace('Malee','Male',inplace=True)"
   ]
  },
  {
   "cell_type": "code",
   "execution_count": 11,
   "metadata": {},
   "outputs": [
    {
     "name": "stdout",
     "output_type": "stream",
     "text": [
      "Male      806\n",
      "Female    594\n",
      "Name: gender, dtype: int64\n"
     ]
    }
   ],
   "source": [
    "print(health.gender.value_counts())"
   ]
  },
  {
   "cell_type": "code",
   "execution_count": 13,
   "metadata": {},
   "outputs": [],
   "source": [
    "health['gender'].replace(['Male','Female'],[0,1],inplace=True)"
   ]
  },
  {
   "cell_type": "code",
   "execution_count": 14,
   "metadata": {},
   "outputs": [
    {
     "data": {
      "text/plain": [
       "<matplotlib.axes._subplots.AxesSubplot at 0x12a085c81d0>"
      ]
     },
     "execution_count": 14,
     "metadata": {},
     "output_type": "execute_result"
    },
    {
     "data": {
      "image/png": "[encoded data removed]",
      "text/plain": [
       "<Figure size 432x288 with 1 Axes>"
      ]
     },
     "metadata": {},
     "output_type": "display_data"
    }
   ],
   "source": [
    "health.gender.value_counts().plot(kind='bar')"
   ]
  },
  {
   "cell_type": "markdown",
   "metadata": {},
   "source": [
    "# Creating Dummies"
   ]
  },
  {
   "cell_type": "code",
   "execution_count": 23,
   "metadata": {},
   "outputs": [],
   "source": [
    "from sklearn.preprocessing import LabelEncoder\n",
    "labels=LabelEncoder()"
   ]
  },
  {
   "cell_type": "code",
   "execution_count": 24,
   "metadata": {},
   "outputs": [],
   "source": [
    "health['agegroup']=labels.fit_transform(health['agegroup'])"
   ]
  },
  {
   "cell_type": "code",
   "execution_count": 25,
   "metadata": {},
   "outputs": [],
   "source": [
    "health['Diseasecode']=labels.fit_transform(health['Diseasecode'])\n",
    "health['hospitalsize']=labels.fit_transform(health['hospitalsize'])\n",
    "health['line1drugcombination']=labels.fit_transform(health['line1drugcombination'])\n",
    "health['line2drugcombination']=labels.fit_transform(health['line2drugcombination'])\n",
    "health['line1drugs']=labels.fit_transform(health['line1drugs'])\n",
    "health['line2drugs']=labels.fit_transform(health['line2drugs'])"
   ]
  },
  {
   "cell_type": "markdown",
   "metadata": {},
   "source": [
    "# Smoking Status"
   ]
  },
  {
   "cell_type": "code",
   "execution_count": 15,
   "metadata": {},
   "outputs": [
    {
     "name": "stdout",
     "output_type": "stream",
     "text": [
      "Non-smoker        741\n",
      "Current smoker    193\n",
      "Name: smokingstatus, dtype: int64\n"
     ]
    }
   ],
   "source": [
    "print(health.smokingstatus.value_counts())"
   ]
  },
  {
   "cell_type": "code",
   "execution_count": 16,
   "metadata": {},
   "outputs": [
    {
     "data": {
      "text/plain": [
       "{'Current smoker', 'Non-smoker', nan}"
      ]
     },
     "execution_count": 16,
     "metadata": {},
     "output_type": "execute_result"
    }
   ],
   "source": [
    "set(health['smokingstatus'])"
   ]
  },
  {
   "cell_type": "code",
   "execution_count": 17,
   "metadata": {},
   "outputs": [],
   "source": [
    "health.smokingstatus.replace(['Current smoker', 'Non-smoker'],[1,2],inplace=True)"
   ]
  },
  {
   "cell_type": "code",
   "execution_count": 18,
   "metadata": {},
   "outputs": [
    {
     "data": {
      "text/plain": [
       "<matplotlib.axes._subplots.AxesSubplot at 0x12a0860abe0>"
      ]
     },
     "execution_count": 18,
     "metadata": {},
     "output_type": "execute_result"
    },
    {
     "data": {
      "image/png": "[encoded data removed]",
      "text/plain": [
       "<Figure size 432x288 with 1 Axes>"
      ]
     },
     "metadata": {},
     "output_type": "display_data"
    }
   ],
   "source": [
    "health.smokingstatus.value_counts().plot(kind='bar')"
   ]
  },
  {
   "cell_type": "markdown",
   "metadata": {},
   "source": [
    "# Disease Code"
   ]
  },
  {
   "cell_type": "code",
   "execution_count": 19,
   "metadata": {},
   "outputs": [
    {
     "data": {
      "text/plain": [
       "<matplotlib.axes._subplots.AxesSubplot at 0x12a086a2e80>"
      ]
     },
     "execution_count": 19,
     "metadata": {},
     "output_type": "execute_result"
    },
    {
     "data": {
      "image/png": "[encoded data removed]",
      "text/plain": [
       "<Figure size 432x288 with 1 Axes>"
      ]
     },
     "metadata": {},
     "output_type": "display_data"
    }
   ],
   "source": [
    "health.Diseasecode.value_counts().plot(kind='bar')"
   ]
  },
  {
   "cell_type": "code",
   "execution_count": 20,
   "metadata": {},
   "outputs": [
    {
     "data": {
      "text/plain": [
       "D6    687\n",
       "D1    363\n",
       "D2    288\n",
       "D4     48\n",
       "D5      7\n",
       "D3      7\n",
       "Name: Diseasecode, dtype: int64"
      ]
     },
     "execution_count": 20,
     "metadata": {},
     "output_type": "execute_result"
    }
   ],
   "source": [
    "health.Diseasecode.value_counts()"
   ]
  },
  {
   "cell_type": "markdown",
   "metadata": {},
   "source": [
    "# Hospital Size"
   ]
  },
  {
   "cell_type": "code",
   "execution_count": 21,
   "metadata": {},
   "outputs": [
    {
     "data": {
      "text/plain": [
       "<matplotlib.axes._subplots.AxesSubplot at 0x12a08707a58>"
      ]
     },
     "execution_count": 21,
     "metadata": {},
     "output_type": "execute_result"
    },
    {
     "data": {
      "image/png": "[encoded data removed]",
      "text/plain": [
       "<Figure size 432x288 with 1 Axes>"
      ]
     },
     "metadata": {},
     "output_type": "display_data"
    }
   ],
   "source": [
    "health.hospitalsize.value_counts().plot(kind='bar')"
   ]
  },
  {
   "cell_type": "code",
   "execution_count": 22,
   "metadata": {},
   "outputs": [
    {
     "data": {
      "text/plain": [
       "1-50 number of beds             976\n",
       "More then 450 Number of beds    253\n",
       "351-450 number of beds           75\n",
       "251-350 number of beds           35\n",
       "51-150 number of beds            32\n",
       "151-250 number of beds           29\n",
       "Name: hospitalsize, dtype: int64"
      ]
     },
     "execution_count": 22,
     "metadata": {},
     "output_type": "execute_result"
    }
   ],
   "source": [
    "health.hospitalsize.value_counts()"
   ]
  },
  {
   "cell_type": "markdown",
   "metadata": {},
   "source": [
    "# Removing null values"
   ]
  },
  {
   "cell_type": "code",
   "execution_count": 26,
   "metadata": {},
   "outputs": [],
   "source": [
    "health.dropna(axis=0,inplace=True)"
   ]
  },
  {
   "cell_type": "code",
   "execution_count": 27,
   "metadata": {},
   "outputs": [
    {
     "data": {
      "text/plain": [
       "(928, 17)"
      ]
     },
     "execution_count": 27,
     "metadata": {},
     "output_type": "execute_result"
    }
   ],
   "source": [
    "health.shape"
   ]
  },
  {
   "cell_type": "code",
   "execution_count": 37,
   "metadata": {},
   "outputs": [],
   "source": [
    "health['diff']=health['line2stdate']-health['line1stdate']"
   ]
  },
  {
   "cell_type": "code",
   "execution_count": 38,
   "metadata": {},
   "outputs": [
    {
     "data": {
      "text/html": [
       "<div>\n",
       "<style scoped>\n",
       "    .dataframe tbody tr th:only-of-type {\n",
       "        vertical-align: middle;\n",
       "    }\n",
       "\n",
       "    .dataframe tbody tr th {\n",
       "        vertical-align: top;\n",
       "    }\n",
       "\n",
       "    .dataframe thead th {\n",
       "        text-align: right;\n",
       "    }\n",
       "</style>\n",
       "<table border=\"1\" class=\"dataframe\">\n",
       "  <thead>\n",
       "    <tr style=\"text-align: right;\">\n",
       "      <th></th>\n",
       "      <th>patient_id</th>\n",
       "      <th>line1stdate</th>\n",
       "      <th>line2stdate</th>\n",
       "      <th>age</th>\n",
       "      <th>gender</th>\n",
       "      <th>agegroup</th>\n",
       "      <th>sbpn</th>\n",
       "      <th>dbpn</th>\n",
       "      <th>smokingstatus</th>\n",
       "      <th>Diseasecode</th>\n",
       "      <th>hospitalsize</th>\n",
       "      <th>durationofline1</th>\n",
       "      <th>line1drugcombination</th>\n",
       "      <th>line2drugcombination</th>\n",
       "      <th>line1drugs</th>\n",
       "      <th>line2drugs</th>\n",
       "      <th>curestatus</th>\n",
       "      <th>diff</th>\n",
       "    </tr>\n",
       "  </thead>\n",
       "  <tbody>\n",
       "    <tr>\n",
       "      <th>0</th>\n",
       "      <td>MB0001</td>\n",
       "      <td>2010-06-19</td>\n",
       "      <td>2010-07-19</td>\n",
       "      <td>26.746064</td>\n",
       "      <td>0</td>\n",
       "      <td>0</td>\n",
       "      <td>109.0</td>\n",
       "      <td>63.0</td>\n",
       "      <td>2.0</td>\n",
       "      <td>0</td>\n",
       "      <td>5</td>\n",
       "      <td>1</td>\n",
       "      <td>1</td>\n",
       "      <td>1</td>\n",
       "      <td>5</td>\n",
       "      <td>24</td>\n",
       "      <td>0</td>\n",
       "      <td>30 days</td>\n",
       "    </tr>\n",
       "    <tr>\n",
       "      <th>1</th>\n",
       "      <td>MB0002</td>\n",
       "      <td>2014-12-19</td>\n",
       "      <td>2015-02-19</td>\n",
       "      <td>54.332649</td>\n",
       "      <td>0</td>\n",
       "      <td>2</td>\n",
       "      <td>119.0</td>\n",
       "      <td>87.0</td>\n",
       "      <td>1.0</td>\n",
       "      <td>5</td>\n",
       "      <td>0</td>\n",
       "      <td>2</td>\n",
       "      <td>1</td>\n",
       "      <td>1</td>\n",
       "      <td>6</td>\n",
       "      <td>24</td>\n",
       "      <td>1</td>\n",
       "      <td>62 days</td>\n",
       "    </tr>\n",
       "    <tr>\n",
       "      <th>2</th>\n",
       "      <td>MB0003</td>\n",
       "      <td>2011-07-20</td>\n",
       "      <td>2011-09-20</td>\n",
       "      <td>47.249829</td>\n",
       "      <td>1</td>\n",
       "      <td>1</td>\n",
       "      <td>110.0</td>\n",
       "      <td>64.0</td>\n",
       "      <td>2.0</td>\n",
       "      <td>5</td>\n",
       "      <td>0</td>\n",
       "      <td>2</td>\n",
       "      <td>1</td>\n",
       "      <td>1</td>\n",
       "      <td>6</td>\n",
       "      <td>24</td>\n",
       "      <td>1</td>\n",
       "      <td>62 days</td>\n",
       "    </tr>\n",
       "    <tr>\n",
       "      <th>4</th>\n",
       "      <td>MB0005</td>\n",
       "      <td>2010-10-19</td>\n",
       "      <td>2014-03-19</td>\n",
       "      <td>48.082136</td>\n",
       "      <td>1</td>\n",
       "      <td>1</td>\n",
       "      <td>157.0</td>\n",
       "      <td>96.0</td>\n",
       "      <td>2.0</td>\n",
       "      <td>5</td>\n",
       "      <td>5</td>\n",
       "      <td>41</td>\n",
       "      <td>1</td>\n",
       "      <td>1</td>\n",
       "      <td>6</td>\n",
       "      <td>24</td>\n",
       "      <td>0</td>\n",
       "      <td>1247 days</td>\n",
       "    </tr>\n",
       "    <tr>\n",
       "      <th>6</th>\n",
       "      <td>MB0007</td>\n",
       "      <td>2014-06-22</td>\n",
       "      <td>2015-11-29</td>\n",
       "      <td>56.175222</td>\n",
       "      <td>0</td>\n",
       "      <td>2</td>\n",
       "      <td>123.0</td>\n",
       "      <td>82.0</td>\n",
       "      <td>2.0</td>\n",
       "      <td>1</td>\n",
       "      <td>0</td>\n",
       "      <td>17</td>\n",
       "      <td>1</td>\n",
       "      <td>1</td>\n",
       "      <td>5</td>\n",
       "      <td>24</td>\n",
       "      <td>1</td>\n",
       "      <td>525 days</td>\n",
       "    </tr>\n",
       "  </tbody>\n",
       "</table>\n",
       "</div>"
      ],
      "text/plain": [
       "  patient_id line1stdate line2stdate        age  gender  agegroup   sbpn  \\\n",
       "0     MB0001  2010-06-19  2010-07-19  26.746064       0         0  109.0   \n",
       "1     MB0002  2014-12-19  2015-02-19  54.332649       0         2  119.0   \n",
       "2     MB0003  2011-07-20  2011-09-20  47.249829       1         1  110.0   \n",
       "4     MB0005  2010-10-19  2014-03-19  48.082136       1         1  157.0   \n",
       "6     MB0007  2014-06-22  2015-11-29  56.175222       0         2  123.0   \n",
       "\n",
       "   dbpn  smokingstatus  Diseasecode  hospitalsize  durationofline1  \\\n",
       "0  63.0            2.0            0             5                1   \n",
       "1  87.0            1.0            5             0                2   \n",
       "2  64.0            2.0            5             0                2   \n",
       "4  96.0            2.0            5             5               41   \n",
       "6  82.0            2.0            1             0               17   \n",
       "\n",
       "   line1drugcombination  line2drugcombination  line1drugs  line2drugs  \\\n",
       "0                     1                     1           5          24   \n",
       "1                     1                     1           6          24   \n",
       "2                     1                     1           6          24   \n",
       "4                     1                     1           6          24   \n",
       "6                     1                     1           5          24   \n",
       "\n",
       "   curestatus      diff  \n",
       "0           0   30 days  \n",
       "1           1   62 days  \n",
       "2           1   62 days  \n",
       "4           0 1247 days  \n",
       "6           1  525 days  "
      ]
     },
     "execution_count": 38,
     "metadata": {},
     "output_type": "execute_result"
    }
   ],
   "source": [
    "health.head()"
   ]
  },
  {
   "cell_type": "code",
   "execution_count": 39,
   "metadata": {},
   "outputs": [],
   "source": [
    "health['diff']=health['diff'].astype(str)"
   ]
  },
  {
   "cell_type": "code",
   "execution_count": 40,
   "metadata": {},
   "outputs": [
    {
     "data": {
      "text/plain": [
       "patient_id                      object\n",
       "line1stdate             datetime64[ns]\n",
       "line2stdate             datetime64[ns]\n",
       "age                            float64\n",
       "gender                           int64\n",
       "agegroup                         int32\n",
       "sbpn                           float64\n",
       "dbpn                           float64\n",
       "smokingstatus                  float64\n",
       "Diseasecode                      int32\n",
       "hospitalsize                     int32\n",
       "durationofline1                  int64\n",
       "line1drugcombination             int32\n",
       "line2drugcombination             int32\n",
       "line1drugs                       int32\n",
       "line2drugs                       int32\n",
       "curestatus                       int64\n",
       "diff                            object\n",
       "dtype: object"
      ]
     },
     "execution_count": 40,
     "metadata": {},
     "output_type": "execute_result"
    }
   ],
   "source": [
    "health.dtypes"
   ]
  },
  {
   "cell_type": "markdown",
   "metadata": {},
   "source": [
    "# Model Fitting"
   ]
  },
  {
   "cell_type": "markdown",
   "metadata": {},
   "source": [
    "Scaling the values"
   ]
  },
  {
   "cell_type": "code",
   "execution_count": 41,
   "metadata": {},
   "outputs": [],
   "source": [
    "from sklearn.preprocessing import StandardScaler\n",
    "sc_x=StandardScaler()"
   ]
  },
  {
   "cell_type": "code",
   "execution_count": 42,
   "metadata": {},
   "outputs": [],
   "source": [
    "health_df=health.drop(labels='patient_id',axis=1)"
   ]
  },
  {
   "cell_type": "code",
   "execution_count": 43,
   "metadata": {},
   "outputs": [],
   "source": [
    "health_features=health_df.drop(labels='curestatus',axis=1)"
   ]
  },
  {
   "cell_type": "code",
   "execution_count": 44,
   "metadata": {},
   "outputs": [
    {
     "name": "stderr",
     "output_type": "stream",
     "text": [
      "C:\\Users\\Uday\\Anaconda3\\lib\\site-packages\\sklearn\\preprocessing\\data.py:617: DataConversionWarning: Data with input dtype int32, int64, float64 were all converted to float64 by StandardScaler.\n",
      "  return self.partial_fit(X, y)\n"
     ]
    },
    {
     "data": {
      "text/plain": [
       "StandardScaler(copy=True, with_mean=True, with_std=True)"
      ]
     },
     "execution_count": 44,
     "metadata": {},
     "output_type": "execute_result"
    }
   ],
   "source": [
    "sc_x.fit(health_features.iloc[:,2:13])"
   ]
  },
  {
   "cell_type": "code",
   "execution_count": 45,
   "metadata": {},
   "outputs": [
    {
     "name": "stderr",
     "output_type": "stream",
     "text": [
      "C:\\Users\\Uday\\Anaconda3\\lib\\site-packages\\ipykernel_launcher.py:1: DataConversionWarning: Data with input dtype int32, int64, float64 were all converted to float64 by StandardScaler.\n",
      "  \"\"\"Entry point for launching an IPython kernel.\n"
     ]
    }
   ],
   "source": [
    "health_features_1=sc_x.transform(health_features.iloc[:,2:13])"
   ]
  },
  {
   "cell_type": "code",
   "execution_count": 46,
   "metadata": {},
   "outputs": [],
   "source": [
    "X=health_features_1\n",
    "y=health_df['curestatus']\n",
    "from sklearn.model_selection import train_test_split\n",
    "X_train,X_test,y_train,y_test=train_test_split(X,y,test_size=0.2,random_state=0)"
   ]
  },
  {
   "cell_type": "code",
   "execution_count": 47,
   "metadata": {},
   "outputs": [
    {
     "data": {
      "text/plain": [
       "DecisionTreeClassifier(class_weight=None, criterion='gini', max_depth=1,\n",
       "            max_features=None, max_leaf_nodes=None,\n",
       "            min_impurity_decrease=0.0, min_impurity_split=None,\n",
       "            min_samples_leaf=1, min_samples_split=3,\n",
       "            min_weight_fraction_leaf=0.0, presort=False, random_state=0,\n",
       "            splitter='best')"
      ]
     },
     "execution_count": 47,
     "metadata": {},
     "output_type": "execute_result"
    }
   ],
   "source": [
    "from sklearn.tree import DecisionTreeClassifier\n",
    "\n",
    "DTClassifier = DecisionTreeClassifier (max_depth=1,criterion='',min_samples_split = 3, random_state = 0)\n",
    "DTClassifier.fit (X_train,y_train)"
   ]
  },
  {
   "cell_type": "code",
   "execution_count": 48,
   "metadata": {},
   "outputs": [],
   "source": [
    "predicted_labels = DTClassifier.predict(X_test)"
   ]
  },
  {
   "cell_type": "code",
   "execution_count": 49,
   "metadata": {},
   "outputs": [
    {
     "name": "stdout",
     "output_type": "stream",
     "text": [
      "0.6129032258064516\n"
     ]
    }
   ],
   "source": [
    "from sklearn.metrics import accuracy_score\n",
    "score = accuracy_score(y_test, predicted_labels)\n",
    "print(score)"
   ]
  },
  {
   "cell_type": "code",
   "execution_count": 50,
   "metadata": {},
   "outputs": [
    {
     "name": "stdout",
     "output_type": "stream",
     "text": [
      "[[84 22]\n",
      " [50 30]]\n",
      "              precision    recall  f1-score   support\n",
      "\n",
      "           0       0.63      0.79      0.70       106\n",
      "           1       0.58      0.38      0.45        80\n",
      "\n",
      "   micro avg       0.61      0.61      0.61       186\n",
      "   macro avg       0.60      0.58      0.58       186\n",
      "weighted avg       0.61      0.61      0.59       186\n",
      "\n"
     ]
    }
   ],
   "source": [
    "from sklearn.metrics import confusion_matrix,classification_report\n",
    "print(confusion_matrix(y_test,predicted_labels))\n",
    "print(classification_report(y_test,predicted_labels))"
   ]
  },
  {
   "cell_type": "code",
   "execution_count": null,
   "metadata": {},
   "outputs": [],
   "source": []
  },
  {
   "cell_type": "code",
   "execution_count": null,
   "metadata": {},
   "outputs": [],
   "source": []
  }
 ],
 "metadata": {
  "kernelspec": {
   "display_name": "Python 3",
   "language": "python",
   "name": "python3"
  },
  "language_info": {
   "codemirror_mode": {
    "name": "ipython",
    "version": 3
   },
   "file_extension": ".py",
   "mimetype": "text/x-python",
   "name": "python",
   "nbconvert_exporter": "python",
   "pygments_lexer": "ipython3",
   "version": "3.7.0"
  }
 },
 "nbformat": 4,
 "nbformat_minor": 2
}
